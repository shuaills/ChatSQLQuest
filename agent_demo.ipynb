{
 "cells": [
  {
   "cell_type": "code",
   "execution_count": 9,
   "metadata": {},
   "outputs": [
    {
     "ename": "ImportError",
     "evalue": "cannot import name 'SQLiteQueryExecutor' from 'DataLoader.sqlQuery_df_loader' (/Users/mac/ChatSQLQuest/DataLoader/sqlQuery_df_loader.py)",
     "output_type": "error",
     "traceback": [
      "\u001b[0;31m---------------------------------------------------------------------------\u001b[0m",
      "\u001b[0;31mImportError\u001b[0m                               Traceback (most recent call last)",
      "Cell \u001b[0;32mIn[9], line 1\u001b[0m\n\u001b[0;32m----> 1\u001b[0m \u001b[39mfrom\u001b[39;00m \u001b[39mDataLoader\u001b[39;00m\u001b[39m.\u001b[39;00m\u001b[39msqlQuery_df_loader\u001b[39;00m \u001b[39mimport\u001b[39;00m SQLiteQueryExecutor\n\u001b[1;32m      2\u001b[0m \u001b[39mfrom\u001b[39;00m \u001b[39mlangchain\u001b[39;00m\u001b[39m.\u001b[39;00m\u001b[39magents\u001b[39;00m \u001b[39mimport\u001b[39;00m create_pandas_dataframe_agent\n\u001b[1;32m      3\u001b[0m \u001b[39mfrom\u001b[39;00m \u001b[39mlangchain\u001b[39;00m\u001b[39m.\u001b[39;00m\u001b[39mllms\u001b[39;00m \u001b[39mimport\u001b[39;00m OpenAI\n",
      "\u001b[0;31mImportError\u001b[0m: cannot import name 'SQLiteQueryExecutor' from 'DataLoader.sqlQuery_df_loader' (/Users/mac/ChatSQLQuest/DataLoader/sqlQuery_df_loader.py)"
     ]
    }
   ],
   "source": [
    "from DataLoader.sqlQuery_df_loader import SQLiteQueryExecutor\n",
    "from langchain.agents import create_pandas_dataframe_agent\n",
    "from langchain.llms import OpenAI\n",
    "import pandas as pd\n"
   ]
  },
  {
   "cell_type": "code",
   "execution_count": 8,
   "metadata": {},
   "outputs": [
    {
     "ename": "AttributeError",
     "evalue": "module 'DataLoader.sqlQuery_df_loader' has no attribute 'SQLiteQueryExecutor'",
     "output_type": "error",
     "traceback": [
      "\u001b[0;31m---------------------------------------------------------------------------\u001b[0m",
      "\u001b[0;31mAttributeError\u001b[0m                            Traceback (most recent call last)",
      "Cell \u001b[0;32mIn[8], line 1\u001b[0m\n\u001b[0;32m----> 1\u001b[0m sql_query \u001b[39m=\u001b[39m sqlQuery_df_loader\u001b[39m.\u001b[39;49mSQLiteQueryExecutor(\u001b[39m'\u001b[39m\u001b[39mexample.db\u001b[39m\u001b[39m'\u001b[39m)\n\u001b[1;32m      3\u001b[0m \u001b[39m# 获取 DataFrame\u001b[39;00m\n\u001b[1;32m      4\u001b[0m df \u001b[39m=\u001b[39m sql_query\u001b[39m.\u001b[39mexecute_query(\u001b[39m\"\u001b[39m\u001b[39mSELECT * FROM tablename\u001b[39m\u001b[39m\"\u001b[39m)\n",
      "\u001b[0;31mAttributeError\u001b[0m: module 'DataLoader.sqlQuery_df_loader' has no attribute 'SQLiteQueryExecutor'"
     ]
    }
   ],
   "source": [
    "sql_query = SQLiteQueryExecutor('example.db')\n",
    "\n",
    "# 获取 DataFrame\n",
    "df = sql_query.execute_query(\"SELECT * FROM tablename\")\n",
    "print(df)\n",
    "\n",
    "# 保存为 CSV 文件\n",
    "sql_query.query_to_csv(\"SELECT * FROM tablename\", 'output.csv')"
   ]
  },
  {
   "cell_type": "code",
   "execution_count": null,
   "metadata": {},
   "outputs": [],
   "source": []
  }
 ],
 "metadata": {
  "kernelspec": {
   "display_name": "ChatSQLQuest",
   "language": "python",
   "name": "python3"
  },
  "language_info": {
   "codemirror_mode": {
    "name": "ipython",
    "version": 3
   },
   "file_extension": ".py",
   "mimetype": "text/x-python",
   "name": "python",
   "nbconvert_exporter": "python",
   "pygments_lexer": "ipython3",
   "version": "3.10.11"
  },
  "orig_nbformat": 4
 },
 "nbformat": 4,
 "nbformat_minor": 2
}
